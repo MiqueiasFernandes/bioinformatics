{
 "cells": [
  {
   "cell_type": "code",
   "execution_count": 1,
   "metadata": {},
   "outputs": [],
   "source": [
    "## AUTHOR MIQUÉIAS FERNANDES\n",
    "## bio@mikeias.net\n",
    "## 02/21"
   ]
  },
  {
   "cell_type": "code",
   "execution_count": 2,
   "metadata": {},
   "outputs": [],
   "source": [
    "import pandas as pd\n",
    "import seaborn as sns\n",
    "\n",
    "from math import log\n",
    "from matplotlib import rc"
   ]
  },
  {
   "cell_type": "code",
   "execution_count": 3,
   "metadata": {},
   "outputs": [],
   "source": [
    "TITLE_SIZE = 20\n",
    "LABEL_SIZE = 20\n",
    "NOTE_SIZE = 20\n",
    "rc('text', usetex=True)"
   ]
  },
  {
   "cell_type": "code",
   "execution_count": 4,
   "metadata": {},
   "outputs": [],
   "source": [
    "rc = {'lines.linewidth': 2, \n",
    "      'axes.labelsize': LABEL_SIZE, \n",
    "      'axes.titlesize': TITLE_SIZE, \n",
    "      'legend.fontsize': 'x-large',\n",
    "      'font.family':'Lato', 'font.serif':['Lato'],\n",
    "      'axes.facecolor': 'DFDFE5'}\n",
    "sns.set_context('paper', rc=rc)\n",
    "sns.set_style('dark', rc=rc)"
   ]
  },
  {
   "cell_type": "code",
   "execution_count": 5,
   "metadata": {},
   "outputs": [],
   "source": [
    "def importEvents(file, lab, cols=['ID','Gene','FDR', 'PSI', 'Label']):\n",
    "    data = pd.read_csv(file, delimiter='\\t')\n",
    "    data['Label'] = lab\n",
    "    data['PSI'] = data['IncLevelDifference']\n",
    "    data['Gene'] = data['GeneID']\n",
    "    if not all([c in list(data.columns) for c in cols]): \n",
    "        raise Exception('Load Error in ' + file)\n",
    "    return data.drop(columns=[c for c in data.columns if not c in cols])"
   ]
  },
  {
   "cell_type": "code",
   "execution_count": 6,
   "metadata": {},
   "outputs": [],
   "source": [
    "def parseFolder(folder):\n",
    "    a3ss = importEvents(folder + '/A3SS.MATS.JC.txt', 'A3SS')\n",
    "    a5ss = importEvents(folder + '/A5SS.MATS.JC.txt', 'A5SS')\n",
    "    ri = importEvents(folder + '/RI.MATS.JC.txt', 'RI')\n",
    "    se = importEvents(folder + '/SE.MATS.JC.txt', 'SE')\n",
    "    mxe = importEvents(folder + '/MXE.MATS.JC.txt', 'MXE')\n",
    "    pd_all_data = pd.concat([a3ss, a5ss,  ri, se ,mxe])\n",
    "    pd_all_data['qValue'] = pd_all_data.FDR.map(lambda e:  'ALL' if e > 0.05 else 'SIG')\n",
    "    pd_all_data['log10fdr'] = pd_all_data.FDR.map(lambda e: -log(e, 10))\n",
    "    return pd_all_data"
   ]
  },
  {
   "cell_type": "code",
   "execution_count": 7,
   "metadata": {},
   "outputs": [],
   "source": [
    "gy, ry  = '../rmats401/resultadosGY/', '../rmats401/resultadosRY/'"
   ]
  },
  {
   "cell_type": "code",
   "execution_count": 8,
   "metadata": {},
   "outputs": [],
   "source": [
    "gy_dt, ry_dt = parseFolder(gy), parseFolder(ry)"
   ]
  },
  {
   "cell_type": "code",
   "execution_count": 9,
   "metadata": {},
   "outputs": [],
   "source": [
    "gy_dt_sig = gy_dt.loc[gy_dt.qValue == 'SIG']"
   ]
  },
  {
   "cell_type": "code",
   "execution_count": 10,
   "metadata": {},
   "outputs": [],
   "source": [
    "g_sig = gy_dt_sig.loc[gy_dt_sig.PSI < 0]"
   ]
  },
  {
   "cell_type": "code",
   "execution_count": 11,
   "metadata": {},
   "outputs": [],
   "source": [
    "yg_sig = gy_dt_sig.loc[gy_dt_sig.PSI > 0]"
   ]
  },
  {
   "cell_type": "code",
   "execution_count": 12,
   "metadata": {},
   "outputs": [],
   "source": [
    "ry_dt_sig = ry_dt.loc[ry_dt.qValue == 'SIG']"
   ]
  },
  {
   "cell_type": "code",
   "execution_count": 13,
   "metadata": {},
   "outputs": [],
   "source": [
    "r_sig = ry_dt_sig.loc[ry_dt_sig.PSI < 0]"
   ]
  },
  {
   "cell_type": "code",
   "execution_count": 14,
   "metadata": {},
   "outputs": [],
   "source": [
    "yr_sig = ry_dt_sig.loc[ry_dt_sig.PSI > 0]"
   ]
  },
  {
   "cell_type": "code",
   "execution_count": 15,
   "metadata": {},
   "outputs": [],
   "source": [
    "y_sig = pd.concat([yg_sig, yr_sig])"
   ]
  },
  {
   "cell_type": "code",
   "execution_count": 16,
   "metadata": {},
   "outputs": [
    {
     "data": {
      "text/plain": [
       "(70, 125, 47)"
      ]
     },
     "execution_count": 16,
     "metadata": {},
     "output_type": "execute_result"
    }
   ],
   "source": [
    "len(g_sig), len(y_sig), len(r_sig)"
   ]
  },
  {
   "cell_type": "code",
   "execution_count": 17,
   "metadata": {},
   "outputs": [],
   "source": [
    "if not len(gy_dt_sig) + len(ry_dt_sig) == len(g_sig) + len(y_sig) + len(r_sig):\n",
    "    raise Exception('Deu erro na hora de juntar, verifique!')"
   ]
  },
  {
   "cell_type": "code",
   "execution_count": 18,
   "metadata": {},
   "outputs": [],
   "source": [
    "dt = []\n",
    "for c, d in [('G', g_sig), ('Y', y_sig), ('R', r_sig)]:\n",
    "    for evt in ['RI', 'SE', 'A3SS', 'A5SS', 'MXE']:\n",
    "        genes = d.loc[d['Label'] == evt, 'Gene'].nunique()\n",
    "        events = d.loc[d['Label'] == evt, 'ID'].nunique()\n",
    "        dt.append([c, evt, \"Genes\", genes])\n",
    "        dt.append([c, evt, \"Events\", events])"
   ]
  },
  {
   "cell_type": "code",
   "execution_count": 19,
   "metadata": {},
   "outputs": [],
   "source": [
    "data = pd.DataFrame(dt, columns=[\"Condition\", \"Event\", \"Distinct count\", \"Count\"])"
   ]
  },
  {
   "cell_type": "code",
   "execution_count": 28,
   "metadata": {},
   "outputs": [
    {
     "data": {
      "image/png": "[encoded data removed]",
      "text/plain": [
       "<Figure size 953.358x288 with 3 Axes>"
      ]
     },
     "metadata": {},
     "output_type": "display_data"
    }
   ],
   "source": [
    "g = sns.catplot(\n",
    "    x=\"Count\", \n",
    "    y=\"Event\", 9\n",
    "    hue=\"Distinct count\", \n",
    "    col=\"Condition\", \n",
    "    data=data, height=4, kind='bar', palette=\"bright\")"
   ]
  },
  {
   "cell_type": "code",
   "execution_count": 29,
   "metadata": {},
   "outputs": [],
   "source": [
    "g.savefig('bars.as.svg')"
   ]
  },
  {
   "cell_type": "code",
   "execution_count": null,
   "metadata": {},
   "outputs": [],
   "source": []
  }
 ],
 "metadata": {
  "kernelspec": {
   "display_name": "Python 3",
   "language": "python",
   "name": "python3"
  },
  "language_info": {
   "codemirror_mode": {
    "name": "ipython",
    "version": 3
   },
   "file_extension": ".py",
   "mimetype": "text/x-python",
   "name": "python",
   "nbconvert_exporter": "python",
   "pygments_lexer": "ipython3",
   "version": "3.7.3"
  }
 },
 "nbformat": 4,
 "nbformat_minor": 4
}
