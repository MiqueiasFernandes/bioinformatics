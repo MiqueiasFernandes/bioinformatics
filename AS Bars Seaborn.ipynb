{
 "cells": [
  {
   "cell_type": "code",
   "execution_count": 1,
   "metadata": {},
   "outputs": [],
   "source": [
    "## AUTHOR MIQUÉIAS FERNANDES\n",
    "## bio@mikeias.net\n",
    "## 02/21"
   ]
  },
  {
   "cell_type": "code",
   "execution_count": 2,
   "metadata": {},
   "outputs": [],
   "source": [
    "import pandas as pd\n",
    "import seaborn as sns\n",
    "\n",
    "from math import log\n",
    "from matplotlib import rc"
   ]
  },
  {
   "cell_type": "code",
   "execution_count": 3,
   "metadata": {},
   "outputs": [],
   "source": [
    "TITLE_SIZE = 20\n",
    "LABEL_SIZE = 20\n",
    "NOTE_SIZE = 20\n",
    "rc('text', usetex=True)"
   ]
  },
  {
   "cell_type": "code",
   "execution_count": 21,
   "metadata": {},
   "outputs": [],
   "source": [
    "rc = {'lines.linewidth': 2, \n",
    "      'axes.labelsize': LABEL_SIZE, \n",
    "      'axes.titlesize': TITLE_SIZE, \n",
    "      'legend.fontsize': 'x-large',\n",
    "      'font.family':'lato', 'font.serif':['lato'],\n",
    "      'axes.facecolor': 'DFDFE5'}\n",
    "sns.set_context('paper', rc=rc)\n",
    "sns.set_style('dark', rc=rc)"
   ]
  },
  {
   "cell_type": "code",
   "execution_count": 22,
   "metadata": {},
   "outputs": [],
   "source": [
    "def importEvents(file, lab, cols=['ID','Gene','FDR', 'PSI', 'Label']):\n",
    "    data = pd.read_csv(file, delimiter='\\t')\n",
    "    data['Label'] = lab\n",
    "    data['PSI'] = data['IncLevelDifference']\n",
    "    data['Gene'] = data['GeneID']\n",
    "    if not all([c in list(data.columns) for c in cols]): \n",
    "        raise Exception('Load Error in ' + file)\n",
    "    return data.drop(columns=[c for c in data.columns if not c in cols])"
   ]
  },
  {
   "cell_type": "code",
   "execution_count": 23,
   "metadata": {},
   "outputs": [],
   "source": [
    "def parseFolder(folder):\n",
    "    a3ss = importEvents(folder + '/A3SS.MATS.JC.txt', 'A3SS')\n",
    "    a5ss = importEvents(folder + '/A5SS.MATS.JC.txt', 'A5SS')\n",
    "    ri = importEvents(folder + '/RI.MATS.JC.txt', 'RI')\n",
    "    se = importEvents(folder + '/SE.MATS.JC.txt', 'SE')\n",
    "    mxe = importEvents(folder + '/MXE.MATS.JC.txt', 'MXE')\n",
    "    pd_all_data = pd.concat([a3ss, a5ss,  ri, se ,mxe])\n",
    "    pd_all_data['qValue'] = pd_all_data.FDR.map(lambda e:  'ALL' if e > 0.05 else 'SIG')\n",
    "    pd_all_data['log10fdr'] = pd_all_data.FDR.map(lambda e: -log(e, 10))\n",
    "    return pd_all_data"
   ]
  },
  {
   "cell_type": "code",
   "execution_count": 24,
   "metadata": {},
   "outputs": [],
   "source": [
    "gy, ry  = '../rmats401/resultadosGY/', '../rmats401/resultadosRY/'"
   ]
  },
  {
   "cell_type": "code",
   "execution_count": 25,
   "metadata": {},
   "outputs": [],
   "source": [
    "gy_dt, ry_dt = parseFolder(gy), parseFolder(ry)"
   ]
  },
  {
   "cell_type": "code",
   "execution_count": 26,
   "metadata": {},
   "outputs": [],
   "source": [
    "gy_dt_sig = gy_dt.loc[gy_dt.qValue == 'SIG']"
   ]
  },
  {
   "cell_type": "code",
   "execution_count": 27,
   "metadata": {},
   "outputs": [],
   "source": [
    "g_sig = gy_dt_sig.loc[gy_dt_sig.PSI < 0]"
   ]
  },
  {
   "cell_type": "code",
   "execution_count": 28,
   "metadata": {},
   "outputs": [],
   "source": [
    "yg_sig = gy_dt_sig.loc[gy_dt_sig.PSI > 0]"
   ]
  },
  {
   "cell_type": "code",
   "execution_count": 29,
   "metadata": {},
   "outputs": [],
   "source": [
    "ry_dt_sig = ry_dt.loc[ry_dt.qValue == 'SIG']"
   ]
  },
  {
   "cell_type": "code",
   "execution_count": 30,
   "metadata": {},
   "outputs": [],
   "source": [
    "r_sig = ry_dt_sig.loc[ry_dt_sig.PSI < 0]"
   ]
  },
  {
   "cell_type": "code",
   "execution_count": 31,
   "metadata": {},
   "outputs": [],
   "source": [
    "yr_sig = ry_dt_sig.loc[ry_dt_sig.PSI > 0]"
   ]
  },
  {
   "cell_type": "code",
   "execution_count": 32,
   "metadata": {},
   "outputs": [],
   "source": [
    "y_sig = pd.concat([yg_sig, yr_sig])"
   ]
  },
  {
   "cell_type": "code",
   "execution_count": 33,
   "metadata": {},
   "outputs": [
    {
     "data": {
      "text/plain": [
       "(70, 125, 47)"
      ]
     },
     "execution_count": 33,
     "metadata": {},
     "output_type": "execute_result"
    }
   ],
   "source": [
    "len(g_sig), len(y_sig), len(r_sig)"
   ]
  },
  {
   "cell_type": "code",
   "execution_count": 34,
   "metadata": {},
   "outputs": [],
   "source": [
    "if not len(gy_dt_sig) + len(ry_dt_sig) == len(g_sig) + len(y_sig) + len(r_sig):\n",
    "    raise Exception('Deu erro na hora de juntar, verifique!')"
   ]
  },
  {
   "cell_type": "code",
   "execution_count": 35,
   "metadata": {},
   "outputs": [],
   "source": [
    "dt = []\n",
    "for c, d in [('G', g_sig), ('Y', y_sig), ('R', r_sig)]:\n",
    "    for evt in ['RI', 'SE', 'A3SS', 'A5SS', 'MXE']:\n",
    "        genes = d.loc[d['Label'] == evt, 'Gene'].nunique()\n",
    "        events = d.loc[d['Label'] == evt, 'ID'].nunique()\n",
    "        dt.append([c, evt, \"Genes\", genes])\n",
    "        dt.append([c, evt, \"Events\", events])"
   ]
  },
  {
   "cell_type": "code",
   "execution_count": 36,
   "metadata": {},
   "outputs": [],
   "source": [
    "data = pd.DataFrame(dt, columns=[\"Condition\", \"Event\", \"Distinct count\", \"Count\"])"
   ]
  },
  {
   "cell_type": "code",
   "execution_count": 37,
   "metadata": {},
   "outputs": [
    {
     "name": "stderr",
     "output_type": "stream",
     "text": [
      "findfont: Font family ['lato'] not found. Falling back to DejaVu Sans.\n",
      "findfont: Font family ['lato'] not found. Falling back to DejaVu Sans.\n"
     ]
    },
    {
     "data": {
      "text/plain": [
       "<seaborn.axisgrid.FacetGrid at 0x7fa3700007f0>"
      ]
     },
     "execution_count": 37,
     "metadata": {},
     "output_type": "execute_result"
    },
    {
     "data": {
      "image/png": "[encoded data removed]",
      "text/plain": [
       "<Figure size 953.358x288 with 3 Axes>"
      ]
     },
     "metadata": {},
     "output_type": "display_data"
    }
   ],
   "source": [
    "g = sns.catplot(\n",
    "    x=\"Count\", \n",
    "    y=\"Event\",\n",
    "    hue=\"Distinct count\", \n",
    "    col=\"Condition\", \n",
    "    data=data, height=4, kind='bar', palette=\"bright\")\n",
    "\n",
    "g.set_xticklabels(fontsize=20)"
   ]
  },
  {
   "cell_type": "code",
   "execution_count": null,
   "metadata": {},
   "outputs": [],
   "source": [
    "g.savefig('bars.as.svg')"
   ]
  },
  {
   "cell_type": "code",
   "execution_count": 38,
   "metadata": {},
   "outputs": [
    {
     "data": {
      "text/html": [
       "<div>\n",
       "<style scoped>\n",
       "    .dataframe tbody tr th:only-of-type {\n",
       "        vertical-align: middle;\n",
       "    }\n",
       "\n",
       "    .dataframe tbody tr th {\n",
       "        vertical-align: top;\n",
       "    }\n",
       "\n",
       "    .dataframe thead th {\n",
       "        text-align: right;\n",
       "    }\n",
       "</style>\n",
       "<table border=\"1\" class=\"dataframe\">\n",
       "  <thead>\n",
       "    <tr style=\"text-align: right;\">\n",
       "      <th></th>\n",
       "      <th>Condition</th>\n",
       "      <th>Event</th>\n",
       "      <th>Distinct count</th>\n",
       "      <th>Count</th>\n",
       "    </tr>\n",
       "  </thead>\n",
       "  <tbody>\n",
       "    <tr>\n",
       "      <th>0</th>\n",
       "      <td>G</td>\n",
       "      <td>RI</td>\n",
       "      <td>Genes</td>\n",
       "      <td>20</td>\n",
       "    </tr>\n",
       "    <tr>\n",
       "      <th>1</th>\n",
       "      <td>G</td>\n",
       "      <td>RI</td>\n",
       "      <td>Events</td>\n",
       "      <td>20</td>\n",
       "    </tr>\n",
       "    <tr>\n",
       "      <th>2</th>\n",
       "      <td>G</td>\n",
       "      <td>SE</td>\n",
       "      <td>Genes</td>\n",
       "      <td>10</td>\n",
       "    </tr>\n",
       "    <tr>\n",
       "      <th>3</th>\n",
       "      <td>G</td>\n",
       "      <td>SE</td>\n",
       "      <td>Events</td>\n",
       "      <td>10</td>\n",
       "    </tr>\n",
       "    <tr>\n",
       "      <th>4</th>\n",
       "      <td>G</td>\n",
       "      <td>A3SS</td>\n",
       "      <td>Genes</td>\n",
       "      <td>27</td>\n",
       "    </tr>\n",
       "    <tr>\n",
       "      <th>5</th>\n",
       "      <td>G</td>\n",
       "      <td>A3SS</td>\n",
       "      <td>Events</td>\n",
       "      <td>27</td>\n",
       "    </tr>\n",
       "    <tr>\n",
       "      <th>6</th>\n",
       "      <td>G</td>\n",
       "      <td>A5SS</td>\n",
       "      <td>Genes</td>\n",
       "      <td>13</td>\n",
       "    </tr>\n",
       "    <tr>\n",
       "      <th>7</th>\n",
       "      <td>G</td>\n",
       "      <td>A5SS</td>\n",
       "      <td>Events</td>\n",
       "      <td>13</td>\n",
       "    </tr>\n",
       "    <tr>\n",
       "      <th>8</th>\n",
       "      <td>G</td>\n",
       "      <td>MXE</td>\n",
       "      <td>Genes</td>\n",
       "      <td>0</td>\n",
       "    </tr>\n",
       "    <tr>\n",
       "      <th>9</th>\n",
       "      <td>G</td>\n",
       "      <td>MXE</td>\n",
       "      <td>Events</td>\n",
       "      <td>0</td>\n",
       "    </tr>\n",
       "    <tr>\n",
       "      <th>10</th>\n",
       "      <td>Y</td>\n",
       "      <td>RI</td>\n",
       "      <td>Genes</td>\n",
       "      <td>12</td>\n",
       "    </tr>\n",
       "    <tr>\n",
       "      <th>11</th>\n",
       "      <td>Y</td>\n",
       "      <td>RI</td>\n",
       "      <td>Events</td>\n",
       "      <td>13</td>\n",
       "    </tr>\n",
       "    <tr>\n",
       "      <th>12</th>\n",
       "      <td>Y</td>\n",
       "      <td>SE</td>\n",
       "      <td>Genes</td>\n",
       "      <td>19</td>\n",
       "    </tr>\n",
       "    <tr>\n",
       "      <th>13</th>\n",
       "      <td>Y</td>\n",
       "      <td>SE</td>\n",
       "      <td>Events</td>\n",
       "      <td>22</td>\n",
       "    </tr>\n",
       "    <tr>\n",
       "      <th>14</th>\n",
       "      <td>Y</td>\n",
       "      <td>A3SS</td>\n",
       "      <td>Genes</td>\n",
       "      <td>53</td>\n",
       "    </tr>\n",
       "    <tr>\n",
       "      <th>15</th>\n",
       "      <td>Y</td>\n",
       "      <td>A3SS</td>\n",
       "      <td>Events</td>\n",
       "      <td>56</td>\n",
       "    </tr>\n",
       "    <tr>\n",
       "      <th>16</th>\n",
       "      <td>Y</td>\n",
       "      <td>A5SS</td>\n",
       "      <td>Genes</td>\n",
       "      <td>29</td>\n",
       "    </tr>\n",
       "    <tr>\n",
       "      <th>17</th>\n",
       "      <td>Y</td>\n",
       "      <td>A5SS</td>\n",
       "      <td>Events</td>\n",
       "      <td>32</td>\n",
       "    </tr>\n",
       "    <tr>\n",
       "      <th>18</th>\n",
       "      <td>Y</td>\n",
       "      <td>MXE</td>\n",
       "      <td>Genes</td>\n",
       "      <td>1</td>\n",
       "    </tr>\n",
       "    <tr>\n",
       "      <th>19</th>\n",
       "      <td>Y</td>\n",
       "      <td>MXE</td>\n",
       "      <td>Events</td>\n",
       "      <td>1</td>\n",
       "    </tr>\n",
       "    <tr>\n",
       "      <th>20</th>\n",
       "      <td>R</td>\n",
       "      <td>RI</td>\n",
       "      <td>Genes</td>\n",
       "      <td>5</td>\n",
       "    </tr>\n",
       "    <tr>\n",
       "      <th>21</th>\n",
       "      <td>R</td>\n",
       "      <td>RI</td>\n",
       "      <td>Events</td>\n",
       "      <td>5</td>\n",
       "    </tr>\n",
       "    <tr>\n",
       "      <th>22</th>\n",
       "      <td>R</td>\n",
       "      <td>SE</td>\n",
       "      <td>Genes</td>\n",
       "      <td>10</td>\n",
       "    </tr>\n",
       "    <tr>\n",
       "      <th>23</th>\n",
       "      <td>R</td>\n",
       "      <td>SE</td>\n",
       "      <td>Events</td>\n",
       "      <td>11</td>\n",
       "    </tr>\n",
       "    <tr>\n",
       "      <th>24</th>\n",
       "      <td>R</td>\n",
       "      <td>A3SS</td>\n",
       "      <td>Genes</td>\n",
       "      <td>18</td>\n",
       "    </tr>\n",
       "    <tr>\n",
       "      <th>25</th>\n",
       "      <td>R</td>\n",
       "      <td>A3SS</td>\n",
       "      <td>Events</td>\n",
       "      <td>18</td>\n",
       "    </tr>\n",
       "    <tr>\n",
       "      <th>26</th>\n",
       "      <td>R</td>\n",
       "      <td>A5SS</td>\n",
       "      <td>Genes</td>\n",
       "      <td>11</td>\n",
       "    </tr>\n",
       "    <tr>\n",
       "      <th>27</th>\n",
       "      <td>R</td>\n",
       "      <td>A5SS</td>\n",
       "      <td>Events</td>\n",
       "      <td>12</td>\n",
       "    </tr>\n",
       "    <tr>\n",
       "      <th>28</th>\n",
       "      <td>R</td>\n",
       "      <td>MXE</td>\n",
       "      <td>Genes</td>\n",
       "      <td>1</td>\n",
       "    </tr>\n",
       "    <tr>\n",
       "      <th>29</th>\n",
       "      <td>R</td>\n",
       "      <td>MXE</td>\n",
       "      <td>Events</td>\n",
       "      <td>1</td>\n",
       "    </tr>\n",
       "  </tbody>\n",
       "</table>\n",
       "</div>"
      ],
      "text/plain": [
       "   Condition Event Distinct count  Count\n",
       "0          G    RI          Genes     20\n",
       "1          G    RI         Events     20\n",
       "2          G    SE          Genes     10\n",
       "3          G    SE         Events     10\n",
       "4          G  A3SS          Genes     27\n",
       "5          G  A3SS         Events     27\n",
       "6          G  A5SS          Genes     13\n",
       "7          G  A5SS         Events     13\n",
       "8          G   MXE          Genes      0\n",
       "9          G   MXE         Events      0\n",
       "10         Y    RI          Genes     12\n",
       "11         Y    RI         Events     13\n",
       "12         Y    SE          Genes     19\n",
       "13         Y    SE         Events     22\n",
       "14         Y  A3SS          Genes     53\n",
       "15         Y  A3SS         Events     56\n",
       "16         Y  A5SS          Genes     29\n",
       "17         Y  A5SS         Events     32\n",
       "18         Y   MXE          Genes      1\n",
       "19         Y   MXE         Events      1\n",
       "20         R    RI          Genes      5\n",
       "21         R    RI         Events      5\n",
       "22         R    SE          Genes     10\n",
       "23         R    SE         Events     11\n",
       "24         R  A3SS          Genes     18\n",
       "25         R  A3SS         Events     18\n",
       "26         R  A5SS          Genes     11\n",
       "27         R  A5SS         Events     12\n",
       "28         R   MXE          Genes      1\n",
       "29         R   MXE         Events      1"
      ]
     },
     "execution_count": 38,
     "metadata": {},
     "output_type": "execute_result"
    }
   ],
   "source": [
    "data"
   ]
  },
  {
   "cell_type": "code",
   "execution_count": 39,
   "metadata": {},
   "outputs": [],
   "source": [
    "dt = []\n",
    "for c, d in [('GY', gy_dt_sig), ('RY', gy_dt_sig)]:\n",
    "    for evt in ['RI', 'SE', 'A3SS', 'A5SS', 'MXE']:\n",
    "        genes = d.loc[d['Label'] == evt, 'Gene'].nunique()\n",
    "        events = d.loc[d['Label'] == evt, 'ID'].nunique()\n",
    "        dt.append([c, evt, \"Genes\", genes])\n",
    "        dt.append([c, evt, \"Events\", events])"
   ]
  },
  {
   "cell_type": "code",
   "execution_count": 40,
   "metadata": {},
   "outputs": [
    {
     "data": {
      "text/plain": [
       "[['GY', 'RI', 'Genes', 26],\n",
       " ['GY', 'RI', 'Events', 26],\n",
       " ['GY', 'SE', 'Genes', 22],\n",
       " ['GY', 'SE', 'Events', 22],\n",
       " ['GY', 'A3SS', 'Genes', 65],\n",
       " ['GY', 'A3SS', 'Events', 68],\n",
       " ['GY', 'A5SS', 'Genes', 33],\n",
       " ['GY', 'A5SS', 'Events', 34],\n",
       " ['GY', 'MXE', 'Genes', 0],\n",
       " ['GY', 'MXE', 'Events', 0],\n",
       " ['RY', 'RI', 'Genes', 26],\n",
       " ['RY', 'RI', 'Events', 26],\n",
       " ['RY', 'SE', 'Genes', 22],\n",
       " ['RY', 'SE', 'Events', 22],\n",
       " ['RY', 'A3SS', 'Genes', 65],\n",
       " ['RY', 'A3SS', 'Events', 68],\n",
       " ['RY', 'A5SS', 'Genes', 33],\n",
       " ['RY', 'A5SS', 'Events', 34],\n",
       " ['RY', 'MXE', 'Genes', 0],\n",
       " ['RY', 'MXE', 'Events', 0]]"
      ]
     },
     "execution_count": 40,
     "metadata": {},
     "output_type": "execute_result"
    }
   ],
   "source": [
    "dt"
   ]
  },
  {
   "cell_type": "code",
   "execution_count": 41,
   "metadata": {},
   "outputs": [],
   "source": [
    "data = pd.DataFrame(dt, columns=[\"Condition\", \"Event\", \"Distinct count\", \"Count\"])"
   ]
  },
  {
   "cell_type": "code",
   "execution_count": 42,
   "metadata": {},
   "outputs": [
    {
     "data": {
      "text/html": [
       "<div>\n",
       "<style scoped>\n",
       "    .dataframe tbody tr th:only-of-type {\n",
       "        vertical-align: middle;\n",
       "    }\n",
       "\n",
       "    .dataframe tbody tr th {\n",
       "        vertical-align: top;\n",
       "    }\n",
       "\n",
       "    .dataframe thead th {\n",
       "        text-align: right;\n",
       "    }\n",
       "</style>\n",
       "<table border=\"1\" class=\"dataframe\">\n",
       "  <thead>\n",
       "    <tr style=\"text-align: right;\">\n",
       "      <th></th>\n",
       "      <th>Condition</th>\n",
       "      <th>Event</th>\n",
       "      <th>Distinct count</th>\n",
       "      <th>Count</th>\n",
       "    </tr>\n",
       "  </thead>\n",
       "  <tbody>\n",
       "    <tr>\n",
       "      <th>0</th>\n",
       "      <td>GY</td>\n",
       "      <td>RI</td>\n",
       "      <td>Genes</td>\n",
       "      <td>26</td>\n",
       "    </tr>\n",
       "    <tr>\n",
       "      <th>1</th>\n",
       "      <td>GY</td>\n",
       "      <td>RI</td>\n",
       "      <td>Events</td>\n",
       "      <td>26</td>\n",
       "    </tr>\n",
       "    <tr>\n",
       "      <th>2</th>\n",
       "      <td>GY</td>\n",
       "      <td>SE</td>\n",
       "      <td>Genes</td>\n",
       "      <td>22</td>\n",
       "    </tr>\n",
       "    <tr>\n",
       "      <th>3</th>\n",
       "      <td>GY</td>\n",
       "      <td>SE</td>\n",
       "      <td>Events</td>\n",
       "      <td>22</td>\n",
       "    </tr>\n",
       "    <tr>\n",
       "      <th>4</th>\n",
       "      <td>GY</td>\n",
       "      <td>A3SS</td>\n",
       "      <td>Genes</td>\n",
       "      <td>65</td>\n",
       "    </tr>\n",
       "    <tr>\n",
       "      <th>5</th>\n",
       "      <td>GY</td>\n",
       "      <td>A3SS</td>\n",
       "      <td>Events</td>\n",
       "      <td>68</td>\n",
       "    </tr>\n",
       "    <tr>\n",
       "      <th>6</th>\n",
       "      <td>GY</td>\n",
       "      <td>A5SS</td>\n",
       "      <td>Genes</td>\n",
       "      <td>33</td>\n",
       "    </tr>\n",
       "    <tr>\n",
       "      <th>7</th>\n",
       "      <td>GY</td>\n",
       "      <td>A5SS</td>\n",
       "      <td>Events</td>\n",
       "      <td>34</td>\n",
       "    </tr>\n",
       "    <tr>\n",
       "      <th>8</th>\n",
       "      <td>GY</td>\n",
       "      <td>MXE</td>\n",
       "      <td>Genes</td>\n",
       "      <td>0</td>\n",
       "    </tr>\n",
       "    <tr>\n",
       "      <th>9</th>\n",
       "      <td>GY</td>\n",
       "      <td>MXE</td>\n",
       "      <td>Events</td>\n",
       "      <td>0</td>\n",
       "    </tr>\n",
       "    <tr>\n",
       "      <th>10</th>\n",
       "      <td>RY</td>\n",
       "      <td>RI</td>\n",
       "      <td>Genes</td>\n",
       "      <td>26</td>\n",
       "    </tr>\n",
       "    <tr>\n",
       "      <th>11</th>\n",
       "      <td>RY</td>\n",
       "      <td>RI</td>\n",
       "      <td>Events</td>\n",
       "      <td>26</td>\n",
       "    </tr>\n",
       "    <tr>\n",
       "      <th>12</th>\n",
       "      <td>RY</td>\n",
       "      <td>SE</td>\n",
       "      <td>Genes</td>\n",
       "      <td>22</td>\n",
       "    </tr>\n",
       "    <tr>\n",
       "      <th>13</th>\n",
       "      <td>RY</td>\n",
       "      <td>SE</td>\n",
       "      <td>Events</td>\n",
       "      <td>22</td>\n",
       "    </tr>\n",
       "    <tr>\n",
       "      <th>14</th>\n",
       "      <td>RY</td>\n",
       "      <td>A3SS</td>\n",
       "      <td>Genes</td>\n",
       "      <td>65</td>\n",
       "    </tr>\n",
       "    <tr>\n",
       "      <th>15</th>\n",
       "      <td>RY</td>\n",
       "      <td>A3SS</td>\n",
       "      <td>Events</td>\n",
       "      <td>68</td>\n",
       "    </tr>\n",
       "    <tr>\n",
       "      <th>16</th>\n",
       "      <td>RY</td>\n",
       "      <td>A5SS</td>\n",
       "      <td>Genes</td>\n",
       "      <td>33</td>\n",
       "    </tr>\n",
       "    <tr>\n",
       "      <th>17</th>\n",
       "      <td>RY</td>\n",
       "      <td>A5SS</td>\n",
       "      <td>Events</td>\n",
       "      <td>34</td>\n",
       "    </tr>\n",
       "    <tr>\n",
       "      <th>18</th>\n",
       "      <td>RY</td>\n",
       "      <td>MXE</td>\n",
       "      <td>Genes</td>\n",
       "      <td>0</td>\n",
       "    </tr>\n",
       "    <tr>\n",
       "      <th>19</th>\n",
       "      <td>RY</td>\n",
       "      <td>MXE</td>\n",
       "      <td>Events</td>\n",
       "      <td>0</td>\n",
       "    </tr>\n",
       "  </tbody>\n",
       "</table>\n",
       "</div>"
      ],
      "text/plain": [
       "   Condition Event Distinct count  Count\n",
       "0         GY    RI          Genes     26\n",
       "1         GY    RI         Events     26\n",
       "2         GY    SE          Genes     22\n",
       "3         GY    SE         Events     22\n",
       "4         GY  A3SS          Genes     65\n",
       "5         GY  A3SS         Events     68\n",
       "6         GY  A5SS          Genes     33\n",
       "7         GY  A5SS         Events     34\n",
       "8         GY   MXE          Genes      0\n",
       "9         GY   MXE         Events      0\n",
       "10        RY    RI          Genes     26\n",
       "11        RY    RI         Events     26\n",
       "12        RY    SE          Genes     22\n",
       "13        RY    SE         Events     22\n",
       "14        RY  A3SS          Genes     65\n",
       "15        RY  A3SS         Events     68\n",
       "16        RY  A5SS          Genes     33\n",
       "17        RY  A5SS         Events     34\n",
       "18        RY   MXE          Genes      0\n",
       "19        RY   MXE         Events      0"
      ]
     },
     "execution_count": 42,
     "metadata": {},
     "output_type": "execute_result"
    }
   ],
   "source": [
    "data"
   ]
  },
  {
   "cell_type": "code",
   "execution_count": 49,
   "metadata": {},
   "outputs": [
    {
     "data": {
      "text/plain": [
       "<seaborn.axisgrid.FacetGrid at 0x7fa36d294978>"
      ]
     },
     "execution_count": 49,
     "metadata": {},
     "output_type": "execute_result"
    },
    {
     "data": {
      "image/png": "[encoded data removed]",
      "text/plain": [
       "<Figure size 665.358x288 with 2 Axes>"
      ]
     },
     "metadata": {},
     "output_type": "display_data"
    }
   ],
   "source": [
    "g = sns.catplot(\n",
    "    x=\"Count\", \n",
    "    y=\"Event\",\n",
    "    hue=\"Distinct count\", \n",
    "    col=\"Condition\", \n",
    "    data=data, height=4, kind='bar', palette=\"bright\", linewidth=0)\n",
    "\n",
    "g.set_xticklabels([10*i if i > 0 else \"\" for i in range(0,9)], fontsize=20)"
   ]
  },
  {
   "cell_type": "code",
   "execution_count": 50,
   "metadata": {},
   "outputs": [],
   "source": [
    "g.savefig('bars.as.svg')"
   ]
  },
  {
   "cell_type": "code",
   "execution_count": null,
   "metadata": {},
   "outputs": [],
   "source": []
  }
 ],
 "metadata": {
  "kernelspec": {
   "display_name": "Python 3",
   "language": "python",
   "name": "python3"
  },
  "language_info": {
   "codemirror_mode": {
    "name": "ipython",
    "version": 3
   },
   "file_extension": ".py",
   "mimetype": "text/x-python",
   "name": "python",
   "nbconvert_exporter": "python",
   "pygments_lexer": "ipython3",
   "version": "3.7.3"
  }
 },
 "nbformat": 4,
 "nbformat_minor": 4
}
