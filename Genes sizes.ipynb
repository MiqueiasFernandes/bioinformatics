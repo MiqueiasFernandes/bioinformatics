{
 "cells": [
  {
   "cell_type": "code",
   "execution_count": 1,
   "id": "906cbacc",
   "metadata": {},
   "outputs": [],
   "source": [
    "from Bio import SeqIO\n",
    "import pandas as pd\n",
    "import re"
   ]
  },
  {
   "cell_type": "code",
   "execution_count": 52,
   "id": "90506cc6",
   "metadata": {},
   "outputs": [],
   "source": [
    "import matplotlib.pyplot as plt\n",
    "from matplotlib import rc\n",
    "import seaborn as sns"
   ]
  },
  {
   "cell_type": "code",
   "execution_count": 53,
   "id": "7505f9bc",
   "metadata": {},
   "outputs": [],
   "source": [
    "TITLE_SIZE = 30\n",
    "LABEL_SIZE = 30\n",
    "NOTE_SIZE = 20\n",
    "rc('text', usetex=True)\n",
    "rc = {'lines.linewidth': 2,\n",
    "'axes.labelsize': LABEL_SIZE,\n",
    "'axes.titlesize': TITLE_SIZE,\n",
    "'legend.fontsize': 'x-large',\n",
    "'font.family':'lato', 'font.serif':['lato'],\n",
    "'axes.facecolor': 'DFDFE5'}\n",
    "sns.set_context('paper', rc=rc)\n",
    "sns.set_style('dark', rc=rc)"
   ]
  },
  {
   "cell_type": "code",
   "execution_count": null,
   "id": "2965cd55",
   "metadata": {},
   "outputs": [],
   "source": [
    "gff3 = '../Ca_scaffolds/Ca_scaffolds.gff3'"
   ]
  },
  {
   "cell_type": "code",
   "execution_count": null,
   "id": "983c29b1",
   "metadata": {},
   "outputs": [],
   "source": [
    "genoma_fasta = '../Ca_scaffolds/Ca_scaffolds.fasta'"
   ]
  },
  {
   "cell_type": "code",
   "execution_count": null,
   "id": "19913c50",
   "metadata": {},
   "outputs": [],
   "source": [
    "igenes = 'gene21015,gene6732,gene57633,gene29391,gene51461,gene28716,gene670,gene22342,gene42154,gene62527,gene6505,gene43153,gene41374,gene32,gene24835,gene21193,gene76719,gene43160,gene14033,gene25024,gene37874,gene61405,gene37751,gene1752,gene54807,gene7102,gene50370,gene43004,gene27402,gene11260,gene56882,gene14123,gene45233,gene12154,gene36792,gene74509,gene22710,gene48904,gene38562,gene71814,gene67924,gene71329,gene61988,gene20213,gene71768,gene33054,gene23340,gene27063,gene36349,gene36001,gene72390,gene37319,gene58278,gene47482,gene37851,gene15529,gene9026,gene59092,gene35221,gene53439,gene63086,gene73859,gene74066,gene66129,gene69370,gene10153,gene18780,gene59397,gene61490,gene11217,gene8217,gene29671,gene68399,gene9537,gene20668,gene7901,gene43645,gene18016,gene66077,gene49302,gene74040,gene75730,gene1651,gene76790,gene59434,gene39886,gene29208,gene36330,gene67353,gene66007,gene21657,gene7782,gene5797,gene43183,gene58119,gene60970,gene14520,gene34291,gene51028,gene55742,gene70956,gene40487,gene11437,gene76795,gene50770,gene56392,gene43617,gene21956,gene58866,gene34578,gene38154,gene44862,gene65679,gene39887,gene69654,gene31058,gene4598,gene32818,gene34245,gene7100,gene23573,gene8729,gene40058,gene734,gene55720,gene12648,gene11832,gene2776,gene63905,gene12324,gene53254,gene70928,gene77426,gene14512,gene6970,gene39039,gene16741,gene2476,gene9575,gene21492,gene56302,gene64875,gene69689,gene49283,gene77885,gene39635,gene59392,gene49121,gene60403,gene30238,gene12895,gene66169,gene22839,gene10428,gene23862,gene53362,gene42453,gene63201,gene13351,gene34225,gene20636,gene65931,gene76625,gene56006,gene29050,gene8619,gene76371,gene66723,gene14345,gene41208,gene58475,gene69372,gene64643,gene34262,gene68479,gene70542,gene2010,gene72622,gene65950,gene57941,gene67940,gene69365,gene48468,gene16068,gene38545,gene32750,gene60453,gene56884,gene27502'.split(',')"
   ]
  },
  {
   "cell_type": "code",
   "execution_count": null,
   "id": "e19bbf26",
   "metadata": {},
   "outputs": [],
   "source": [
    "entryes = [e.strip().split(\"\\t\") for e in open(gff3).readlines() if '\\t' in e]"
   ]
  },
  {
   "cell_type": "code",
   "execution_count": null,
   "id": "828d250b",
   "metadata": {},
   "outputs": [],
   "source": [
    "class Entry:\n",
    "    def __init__(self, parts, name='ID'):\n",
    "        self.seq = parts[0]\n",
    "        self.type = parts[2]\n",
    "        self.start = int(parts[3])\n",
    "        self.end = int(parts[4])\n",
    "        self.size = 1 + self.end - self.start\n",
    "        self.strand = parts[6]\n",
    "        self.features = {z[0]: z[1].split(',') for z in [x.split('=') for x in parts[8].split(';')]}\n",
    "        self.raw = parts\n",
    "        self.childs = []\n",
    "        self.gene = None\n",
    "        self.id = self.features[name][0] if name in self.features else None\n",
    "    \n",
    "    def setGene(self, gene):\n",
    "        self.gene = gene\n",
    "        for child in self.childs:\n",
    "            child.setGene(gene)\n",
    "    \n",
    "    def __repr__(self):\n",
    "        return f\"{self.type} {self.size}bp {self.strand} => {self.seq}\""
   ]
  },
  {
   "cell_type": "code",
   "execution_count": null,
   "id": "cb223f6c",
   "metadata": {},
   "outputs": [],
   "source": [
    "parsed_entryes = [Entry(e) for e in entryes]\n",
    "del entryes"
   ]
  },
  {
   "cell_type": "code",
   "execution_count": null,
   "id": "c867a4e5",
   "metadata": {},
   "outputs": [],
   "source": [
    "parsed_entryes_dic = {e.id: e for e in parsed_entryes if e.id}"
   ]
  },
  {
   "cell_type": "code",
   "execution_count": null,
   "id": "6105d0ad",
   "metadata": {},
   "outputs": [],
   "source": [
    "print('Entrye types: %s' % ' '.join(set([e.type for e in parsed_entryes])))"
   ]
  },
  {
   "cell_type": "code",
   "execution_count": null,
   "id": "2dd7245b",
   "metadata": {},
   "outputs": [],
   "source": [
    "genes = [x for x in parsed_entryes if x.type.lower() == 'gene']\n",
    "print('%d genes' % len(genes))"
   ]
  },
  {
   "cell_type": "code",
   "execution_count": null,
   "id": "449a100c",
   "metadata": {},
   "outputs": [],
   "source": [
    "mrnas = [x for x in parsed_entryes if x.type.lower() == 'mrna']\n",
    "print('%d mRNAs' % len(mrnas))"
   ]
  },
  {
   "cell_type": "code",
   "execution_count": null,
   "id": "6bddc59e",
   "metadata": {},
   "outputs": [],
   "source": [
    "for entry in parsed_entryes:\n",
    "    if 'Parent' in entry.features:\n",
    "        parsed_entryes_dic[entry.features['Parent'][0]].childs.append(entry)"
   ]
  },
  {
   "cell_type": "code",
   "execution_count": null,
   "id": "ca26741d",
   "metadata": {},
   "outputs": [],
   "source": [
    "for gene in genes:\n",
    "    gene.setGene(gene)"
   ]
  },
  {
   "cell_type": "code",
   "execution_count": null,
   "id": "102e8b65",
   "metadata": {},
   "outputs": [],
   "source": [
    "data = [(e.type, e.gene.id, e.size, e.strand, e.start, e.end, e.seq) for e in parsed_entryes if e.gene.id in igenes]"
   ]
  },
  {
   "cell_type": "code",
   "execution_count": null,
   "id": "bdf7c77f",
   "metadata": {},
   "outputs": [],
   "source": [
    "del parsed_entryes\n",
    "del parsed_entryes_dic"
   ]
  },
  {
   "cell_type": "code",
   "execution_count": null,
   "id": "512551c6",
   "metadata": {},
   "outputs": [],
   "source": [
    "df = pd.DataFrame(data, columns=['Tipo', 'Gene', 'Size', 'Strand','Start', 'End', 'Seq'])\n",
    "del data"
   ]
  },
  {
   "cell_type": "code",
   "execution_count": null,
   "id": "6f988c1d",
   "metadata": {},
   "outputs": [],
   "source": [
    "fasta = SeqIO.to_dict(SeqIO.parse(genoma_fasta, 'fasta'))"
   ]
  },
  {
   "cell_type": "code",
   "execution_count": null,
   "id": "7bc6ddcc",
   "metadata": {},
   "outputs": [],
   "source": [
    "def statistics(group, utrs=['five_prime_UTR', 'three_prime_UTR']):\n",
    "    \n",
    "    def nrows(dx):\n",
    "        return len(dx.index)\n",
    "    seq= list(group.loc[group.Tipo == 'gene'].Seq)[0]\n",
    "    \n",
    "    gene_size = group.loc[group.Tipo == 'gene'].Size.max()\n",
    "    mrna_count = nrows(group.loc[group.Tipo == 'mRNA'])\n",
    "    t_mrna_size = group.loc[group.Tipo == 'mRNA'].Size.sum()\n",
    "    d_mrna_size = gene_size - group.loc[group.Tipo == 'mRNA'].Size.mean()\n",
    "    exon_count = nrows(group.loc[group.Tipo == 'exon'])\n",
    "    m_exon_size = group.loc[group.Tipo == 'exon'].Size.mean()\n",
    "    exon_size = group.loc[group.Tipo == 'exon'].Size.sum()\n",
    "    utr_count = nrows(group.loc[group.Tipo.isin(utrs)])\n",
    "    utr_size = group.loc[group.Tipo.isin(utrs)].Size.sum()\n",
    "    m_intron_size = ((t_mrna_size - exon_size) / (exon_count - mrna_count)) if exon_count > 1 else 0\n",
    "    cds_size = group.loc[group.Tipo == 'CDS'].Size.sum()\n",
    "    \n",
    "    st = group.loc[group.Tipo == 'CDS'].Start.min()\n",
    "    ed = group.loc[group.Tipo == 'CDS'].End.max()\n",
    "    \n",
    "    sequence = str(fasta[seq].seq[st-1:ed]).upper()\n",
    "    gc = len(sequence.replace('A','').replace('T',''))/len(sequence)\n",
    "    complexity = len(set(re.split(r'(\\w\\w\\w)', sequence)))-1\n",
    "    \n",
    "    return pd.Series([\n",
    "        gene_size, mrna_count, d_mrna_size, exon_count, m_exon_size, utr_count, utr_size, m_intron_size, \n",
    "        cds_size, gc, complexity\n",
    "    ], index=[\n",
    "        'Gene size', 'mRNA count', 'mRNA size diff', 'Exon count', 'Exon size mean', 'UTR count', 'UTR total size', \n",
    "        'Intron mean size', \n",
    "        'Coding total size', 'GC%', 'Protein complexity'\n",
    "    ]).fillna(0)\n"
   ]
  },
  {
   "cell_type": "code",
   "execution_count": null,
   "id": "75b0f2c5",
   "metadata": {
    "scrolled": false
   },
   "outputs": [],
   "source": [
    "res = df.groupby(\"Gene\").apply(statistics)\n",
    "res.head()"
   ]
  },
  {
   "cell_type": "code",
   "execution_count": null,
   "id": "4d1f57dd",
   "metadata": {},
   "outputs": [],
   "source": [
    "res.to_csv(\"gene_summary.csv\")"
   ]
  },
  {
   "cell_type": "code",
   "execution_count": 4,
   "id": "b05b19d5",
   "metadata": {},
   "outputs": [],
   "source": [
    "res = pd.read_csv(\"gene_summary.csv\")"
   ]
  },
  {
   "cell_type": "code",
   "execution_count": 5,
   "id": "d1769840",
   "metadata": {},
   "outputs": [],
   "source": [
    "res= res.drop(columns=['Gene'])"
   ]
  },
  {
   "cell_type": "code",
   "execution_count": 58,
   "id": "513b07fc",
   "metadata": {},
   "outputs": [
    {
     "data": {
      "image/png": "[encoded data removed]",
      "text/plain": [
       "<Figure size 864x648 with 1 Axes>"
      ]
     },
     "metadata": {},
     "output_type": "display_data"
    }
   ],
   "source": [
    "f, ax = plt.subplots(figsize=(12, 9))\n",
    "sns.violinplot(data=res.apply(lambda c: c / c.max()), orient=\"h\", cut=0)\n",
    "la, lb = -.2, 1.2\n",
    "plt.xlim([la, lb])\n",
    "for c, a, b in [(i, res.iloc[:,i].min(),res.iloc[:,i].max())  for i in range(len(res.columns))]:\n",
    "    ax.text(la+.08, c, ('%.2f' if c in [2, 4, 9] else '%d') % a, size=NOTE_SIZE)\n",
    "    ax.text(lb-.13, c, ('%.2f' if c in [2, 4, 9] else '%d') % b, size=NOTE_SIZE)\n",
    "ax.xaxis.label.set_size(40)\n",
    "plt.savefig('gene_stats.png')"
   ]
  },
  {
   "cell_type": "code",
   "execution_count": null,
   "id": "44b14306",
   "metadata": {},
   "outputs": [],
   "source": []
  }
 ],
 "metadata": {
  "kernelspec": {
   "display_name": "Python 3",
   "language": "python",
   "name": "python3"
  },
  "language_info": {
   "codemirror_mode": {
    "name": "ipython",
    "version": 3
   },
   "file_extension": ".py",
   "mimetype": "text/x-python",
   "name": "python",
   "nbconvert_exporter": "python",
   "pygments_lexer": "ipython3",
   "version": "3.7.3"
  }
 },
 "nbformat": 4,
 "nbformat_minor": 5
}
