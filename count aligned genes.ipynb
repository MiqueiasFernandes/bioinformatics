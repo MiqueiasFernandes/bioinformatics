{
 "cells": [
  {
   "cell_type": "code",
   "execution_count": 1,
   "metadata": {},
   "outputs": [],
   "source": [
    "#!pip3 install pysam"
   ]
  },
  {
   "cell_type": "code",
   "execution_count": 2,
   "metadata": {},
   "outputs": [],
   "source": [
    "##sudo apt install samtools"
   ]
  },
  {
   "cell_type": "code",
   "execution_count": 3,
   "metadata": {},
   "outputs": [],
   "source": [
    "##for f in *.bam ; do samtools index -@4 $f ; done"
   ]
  },
  {
   "cell_type": "code",
   "execution_count": 4,
   "metadata": {},
   "outputs": [],
   "source": [
    "import pysam"
   ]
  },
  {
   "cell_type": "code",
   "execution_count": 5,
   "metadata": {},
   "outputs": [],
   "source": [
    "import os"
   ]
  },
  {
   "cell_type": "code",
   "execution_count": 6,
   "metadata": {},
   "outputs": [],
   "source": [
    "def countMappingGene(gff, bams=None, area=.9, readSize=0, folder=True, bam=None, out='gene_counts.tsv'):\n",
    "    \n",
    "    print('parsing gff...')\n",
    "    genes = [x.split('\\t') for x in open(gff).readlines() if '\\tgene\\t' in x]\n",
    "    \n",
    "    print('parsing %d genes...' % len(genes))\n",
    "    gdata = {\n",
    "        g[8].split('ID=')[1].split(';')[0]:\n",
    "        [g[0], int(g[3]), int(g[4])]\n",
    "        for g in genes\n",
    "    }\n",
    "    \n",
    "    for gene, value in gdata.items():\n",
    "        glen = value[2]-value[1]+1\n",
    "        part = readSize if readSize > 0 else (((1-area) / 2) * glen)\n",
    "        if glen <= part*2:\n",
    "            part = ((1-area) / 2) * glen\n",
    "        value[1] = int(value[1] + part)\n",
    "        value[2] = int(value[2] - part)\n",
    "    \n",
    "    result = {} \n",
    "    if not bam and not bams:\n",
    "        raise Exception(\"bam or bams must be taked\")\n",
    "    bams = [bam] if bam else ([bams+\"/\"+b for b in os.listdir(bams) if b.endswith('bam')] if folder else bams)\n",
    "    for bam in bams:\n",
    "        print('processing', bam)\n",
    "        samfile = pysam.AlignmentFile(bam, \"rb\")\n",
    "        result[bam] = {\n",
    "            gene: len(list(samfile.fetch(v[0], v[1], v[2])))\n",
    "            for gene, v in gdata.items()\n",
    "        }\n",
    "    if readSize > 0:\n",
    "        print('Results for mapped on gene len - readSize(%d)' % readSize)\n",
    "    else:\n",
    "        print('Results for mapped on least %d%% of gene len' % (100*area))\n",
    "    print(\n",
    "        {f: \"%.2f%%\" % (100*len([x for x in g.values() if x])/len(g)) for f, g in result.items()}\n",
    "    )\n",
    "    ls = [['gene'] + list(result)] + [[g] + [str(result[f][g]) for f in result] for g in gdata]\n",
    "    open(out, 'w').writelines(['\\t'.join(l) + '\\n' for l in ls])\n",
    "    return result, ls\n",
    "    "
   ]
  },
  {
   "cell_type": "code",
   "execution_count": 7,
   "metadata": {},
   "outputs": [
    {
     "name": "stdout",
     "output_type": "stream",
     "text": [
      "parsing gff...\n",
      "parsing 78311 genes...\n",
      "processing bams//ER35_Aligned.sortedByCoord.out.bam\n",
      "processing bams//ER36_Aligned.sortedByCoord.out.bam\n",
      "processing bams//ER37_Aligned.sortedByCoord.out.bam\n",
      "processing bams//ER38_Aligned.sortedByCoord.out.bam\n",
      "processing bams//ER39_Aligned.sortedByCoord.out.bam\n",
      "processing bams//ER40_Aligned.sortedByCoord.out.bam\n",
      "processing bams//ER41_Aligned.sortedByCoord.out.bam\n",
      "processing bams//ER42_Aligned.sortedByCoord.out.bam\n",
      "processing bams//ER43_Aligned.sortedByCoord.out.bam\n",
      "Results for mapped on gene len - readSize(101)\n",
      "{'bams//ER35_Aligned.sortedByCoord.out.bam': '70.93%', 'bams//ER36_Aligned.sortedByCoord.out.bam': '66.24%', 'bams//ER37_Aligned.sortedByCoord.out.bam': '71.17%', 'bams//ER38_Aligned.sortedByCoord.out.bam': '71.14%', 'bams//ER39_Aligned.sortedByCoord.out.bam': '77.94%', 'bams//ER40_Aligned.sortedByCoord.out.bam': '74.50%', 'bams//ER41_Aligned.sortedByCoord.out.bam': '71.29%', 'bams//ER42_Aligned.sortedByCoord.out.bam': '67.84%', 'bams//ER43_Aligned.sortedByCoord.out.bam': '64.94%'}\n"
     ]
    }
   ],
   "source": [
    "res = countMappingGene('../Ca_scaffolds.gff3', 'bams/', readSize=101)"
   ]
  },
  {
   "cell_type": "code",
   "execution_count": null,
   "metadata": {},
   "outputs": [],
   "source": []
  }
 ],
 "metadata": {
  "kernelspec": {
   "display_name": "Python 3",
   "language": "python",
   "name": "python3"
  },
  "language_info": {
   "codemirror_mode": {
    "name": "ipython",
    "version": 3
   },
   "file_extension": ".py",
   "mimetype": "text/x-python",
   "name": "python",
   "nbconvert_exporter": "python",
   "pygments_lexer": "ipython3",
   "version": "3.7.3"
  }
 },
 "nbformat": 4,
 "nbformat_minor": 4
}
