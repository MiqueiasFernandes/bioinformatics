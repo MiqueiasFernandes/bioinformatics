{
  "nbformat": 4,
  "nbformat_minor": 0,
  "metadata": {
    "colab": {
      "name": "download phytozome.ipynb",
      "provenance": [],
      "collapsed_sections": [],
      "authorship_tag": "ABX9TyPI580pa2X4p9S8whPmhq/L",
      "include_colab_link": true
    },
    "kernelspec": {
      "name": "python3",
      "display_name": "Python 3"
    },
    "language_info": {
      "name": "python"
    }
  },
  "cells": [
    {
      "cell_type": "markdown",
      "metadata": {
        "id": "view-in-github",
        "colab_type": "text"
      },
      "source": [
        "<a href=\"https://colab.research.google.com/github/MiqueiasFernandes/bioinformatics/blob/master/download_phytozome.ipynb\" target=\"_parent\"><img src=\"https://colab.research.google.com/assets/colab-badge.svg\" alt=\"Open In Colab\"/></a>"
      ]
    },
    {
      "cell_type": "markdown",
      "source": [
        "Baixar todos arquivos do Phytozome\n",
        "\n"
      ],
      "metadata": {
        "id": "gGNO6Q5gF3XE"
      }
    },
    {
      "cell_type": "code",
      "source": [
        "### https://genome.jgi.doe.gov/portal/help/download.jsf#/api\n",
        "### https://phytozome-next.jgi.doe.gov/  => ir até notas de versão para ver genomas disponiveis"
      ],
      "metadata": {
        "id": "RLeYEuZL6OMP"
      },
      "execution_count": 1,
      "outputs": []
    },
    {
      "cell_type": "code",
      "execution_count": 2,
      "metadata": {
        "colab": {
          "base_uri": "https://localhost:8080/"
        },
        "id": "UMPnfXonzQ4J",
        "outputId": "c991a7bf-0c00-474d-d4f3-b30189caaeaa"
      },
      "outputs": [
        {
          "output_type": "stream",
          "name": "stdout",
          "text": [
            "LOGIN OK!\n"
          ]
        }
      ],
      "source": [
        "### passo 1: fazer login\n",
        "!curl -s 'https://signon.jgi.doe.gov/signon/create' \\\n",
        "       --data-urlencode 'login=drielliufes@gmail.com' \\\n",
        "       --data-urlencode 'password=dri14071994DRI' \\\n",
        "       -c cookies > x && grep success x >/dev/null && echo LOGIN OK\\! && rm x"
      ]
    },
    {
      "cell_type": "code",
      "source": [
        "### passo 2: baixar a lista de todos arquivos disponiveis\n",
        "!curl -s 'https://genome.jgi.doe.gov/portal/ext-api/downloads/get-directory?organism=PhytozomeV12' \\\n",
        "  -b cookies > files.xml"
      ],
      "metadata": {
        "id": "bqTgE5J2zWfE"
      },
      "execution_count": 3,
      "outputs": []
    },
    {
      "cell_type": "code",
      "source": [
        "### passo 3: filtrar os arquivos de interesse\n",
        "interesse = 'protein_primaryTranscriptOnly.fa.gz'\n",
        "files = list(set([l.split('url=\"')[1].split('\"')[0].replace(\"&amp;\", \"&\") \n",
        "          for l in open('files.xml').readlines() if interesse in l]))"
      ],
      "metadata": {
        "id": "G8OUINTd2BHo"
      },
      "execution_count": 4,
      "outputs": []
    },
    {
      "cell_type": "code",
      "source": [
        "### passo 4: transformar em comandos\n",
        "comandos = [f\"curl 'https://genome.jgi.doe.gov{x}' -b cookies > baixados/{x.split('/')[-1]}\" for x in files]"
      ],
      "metadata": {
        "id": "vtjvnWD-8YN0"
      },
      "execution_count": 5,
      "outputs": []
    },
    {
      "cell_type": "code",
      "source": [
        "import os\n",
        "!rm baixados -rf && mkdir baixados\n",
        "print('Arquivos encontrados para baixar:', len(comandos))"
      ],
      "metadata": {
        "colab": {
          "base_uri": "https://localhost:8080/"
        },
        "id": "NIS2UvM_KWTB",
        "outputId": "23364fdc-87e1-4b6f-ad28-0b80630d23b0"
      },
      "execution_count": 6,
      "outputs": [
        {
          "output_type": "stream",
          "name": "stdout",
          "text": [
            "Arquivos encontrados para baixar: 94\n"
          ]
        }
      ]
    },
    {
      "cell_type": "code",
      "source": [
        "### passo 5: baixar tudo\n",
        "cont, t = 1, len(comandos)\n",
        "for arq in comandos:\n",
        "  print(f\"{cont} de {t} =>\", 'baixando', arq.split('/')[-1], ' ...', end=' ')\n",
        "  os.system(arq)                         ## baixar\n",
        "  os.system('gunzip ' + arq.split()[-1]) ## descompactar\n",
        "  os.system('du -sh baixados > gasto')   ## mostrar gasto disco\n",
        "  print(open('gasto').readline().replace('\\n', ''))\n",
        "  cont += 1"
      ],
      "metadata": {
        "id": "oHh2e_R4-IAt",
        "colab": {
          "base_uri": "https://localhost:8080/"
        },
        "outputId": "5fcc5db2-e7d6-46e2-8345-789ec8a8cb22"
      },
      "execution_count": 7,
      "outputs": [
        {
          "output_type": "stream",
          "name": "stdout",
          "text": [
            "1 de 94 => baixando Mguttatus_256_v2.0.protein_primaryTranscriptOnly.fa.gz  ... 4.0K\tbaixados\n",
            "2 de 94 => baixando Hvulgare_462_r1.protein_primaryTranscriptOnly.fa.gz  ... 18M\tbaixados\n",
            "3 de 94 => baixando Bdistachyon_314_v3.1.protein_primaryTranscriptOnly.fa.gz  ... 18M\tbaixados\n",
            "4 de 94 => baixando PdeltoidesWV94_445_v2.1.protein_primaryTranscriptOnly.fa.gz  ... 18M\tbaixados\n",
            "5 de 94 => baixando Gmax_275_Wm82.a2.v1.protein_primaryTranscriptOnly.fa.gz  ... 47M\tbaixados\n",
            "6 de 94 => baixando Dcarota_388_v2.0.protein_primaryTranscriptOnly.fa.gz  ... 62M\tbaixados\n",
            "7 de 94 => baixando Atrichopoda_291_v1.0.protein_primaryTranscriptOnly.fa.gz  ... 76M\tbaixados\n",
            "8 de 94 => baixando Mtruncatula_285_Mt4.0v1.protein_primaryTranscriptOnly.fa.gz  ... 99M\tbaixados\n",
            "9 de 94 => baixando PhalliiHAL_496_v2.1.protein_primaryTranscriptOnly.fa.gz  ... 99M\tbaixados\n",
            "10 de 94 => baixando Sbicolor_313_v3.1.protein_primaryTranscriptOnly.fa.gz  ... 116M\tbaixados\n",
            "11 de 94 => baixando Pvirgatum_273_v1.1.protein_primaryTranscriptOnly.fa.gz  ... 116M\tbaixados\n",
            "12 de 94 => baixando Zmarina_324_v2.2.protein_primaryTranscriptOnly.fa.gz  ... 116M\tbaixados\n",
            "13 de 94 => baixando Stuberosum_448_v4.03.protein_primaryTranscriptOnly.fa.gz  ... 116M\tbaixados\n",
            "14 de 94 => baixando Egrandis_297_v2.0.protein_primaryTranscriptOnly.fa.gz  ... 134M\tbaixados\n",
            "15 de 94 => baixando Esalsugineum_173_v1.0.protein_primaryTranscriptOnly.fa.gz  ... 147M\tbaixados\n",
            "16 de 94 => baixando Ptrichocarpa_210_v3.0.protein_primaryTranscriptOnly.fa.gz  ... 147M\tbaixados\n",
            "17 de 94 => baixando Athaliana_447_Araport11.protein_primaryTranscriptOnly.fa.gz  ... 161M\tbaixados\n",
            "18 de 94 => baixando Lsativa_467_v5.protein_primaryTranscriptOnly.fa.gz  ... 180M\tbaixados\n",
            "19 de 94 => baixando Bsylvaticum_490_v1.1.protein_primaryTranscriptOnly.fa.gz  ... 198M\tbaixados\n",
            "20 de 94 => baixando Creinhardtii_281_v5.5.protein_primaryTranscriptOnly.fa.gz  ... 213M\tbaixados\n",
            "21 de 94 => baixando Ptrichocarpa_444_v3.1.protein_primaryTranscriptOnly.fa.gz  ... 213M\tbaixados\n",
            "22 de 94 => baixando Othomaeum_386_v1.0.protein_primaryTranscriptOnly.fa.gz  ... 213M\tbaixados\n",
            "23 de 94 => baixando Kfedtschenkoi_382_v1.1.protein_primaryTranscriptOnly.fa.gz  ... 228M\tbaixados\n",
            "24 de 94 => baixando CsubellipsoideaC_169_227_v2.0.protein_primaryTranscriptOnly.fa.gz  ... 233M\tbaixados\n",
            "25 de 94 => baixando BdistachyonBd21_3_460_v1.1.protein_primaryTranscriptOnly.fa.gz  ... 233M\tbaixados\n",
            "26 de 94 => baixando Bbraunii_502_v2.1.protein_primaryTranscriptOnly.fa.gz  ... 242M\tbaixados\n",
            "27 de 94 => baixando Osativa_323_v7.0.protein_primaryTranscriptOnly.fa.gz  ... 262M\tbaixados\n",
            "28 de 94 => baixando Oeuropaea_451_v1.0.protein_primaryTranscriptOnly.fa.gz  ... 262M\tbaixados\n",
            "29 de 94 => baixando Alyrata_384_v2.1.protein_primaryTranscriptOnly.fa.gz  ... 277M\tbaixados\n",
            "30 de 94 => baixando Bstacei_316_v1.1.protein_primaryTranscriptOnly.fa.gz  ... 293M\tbaixados\n",
            "31 de 94 => baixando Cgrandiflora_266_v1.1.protein_primaryTranscriptOnly.fa.gz  ... 306M\tbaixados\n",
            "32 de 94 => baixando MpusillaCCMP1545_228_v3.0.protein_primaryTranscriptOnly.fa.gz  ... 311M\tbaixados\n",
            "33 de 94 => baixando Pvirgatum_450_v4.1.protein_primaryTranscriptOnly.fa.gz  ... 311M\tbaixados\n",
            "34 de 94 => baixando Cquinoa_392_v1.0.protein_primaryTranscriptOnly.fa.gz  ... 335M\tbaixados\n",
            "35 de 94 => baixando OsativaKitaake_499_v3.1.protein_primaryTranscriptOnly.fa.gz  ... 335M\tbaixados\n",
            "36 de 94 => baixando Dsalina_325_v1.0.protein_primaryTranscriptOnly.fa.gz  ... 343M\tbaixados\n",
            "37 de 94 => baixando Pumbilicalis_456_v1.5.protein_primaryTranscriptOnly.fa.gz  ... 351M\tbaixados\n",
            "38 de 94 => baixando Csativus_122_v1.0.protein_primaryTranscriptOnly.fa.gz  ... 361M\tbaixados\n",
            "39 de 94 => baixando MspRCC299_229_v3.0.protein_primaryTranscriptOnly.fa.gz  ... 367M\tbaixados\n",
            "40 de 94 => baixando Rcommunis_119_v0.1.protein_primaryTranscriptOnly.fa.gz  ... 367M\tbaixados\n",
            "41 de 94 => baixando Olucimarinus_231_v2.0.protein_primaryTranscriptOnly.fa.gz  ... 371M\tbaixados\n",
            "42 de 94 => baixando Sitalica_312_v2.2.protein_primaryTranscriptOnly.fa.gz  ... 388M\tbaixados\n",
            "43 de 94 => baixando Taestivum_296_v2.2.protein_primaryTranscriptOnly.fa.gz  ... 388M\tbaixados\n",
            "44 de 94 => baixando Ppersica_298_v2.1.protein_primaryTranscriptOnly.fa.gz  ... 388M\tbaixados\n",
            "45 de 94 => baixando Aofficinalis_498_V1.1.protein_primaryTranscriptOnly.fa.gz  ... 402M\tbaixados\n",
            "46 de 94 => baixando Cclementina_182_v1.0.protein_primaryTranscriptOnly.fa.gz  ... 415M\tbaixados\n",
            "47 de 94 => baixando Ahypochondriacus_459_v2.1.protein_primaryTranscriptOnly.fa.gz  ... 425M\tbaixados\n",
            "48 de 94 => baixando Mesculenta_305_v6.1.protein_primaryTranscriptOnly.fa.gz  ... 425M\tbaixados\n",
            "49 de 94 => baixando Smoellendorffii_91_v1.0.protein_primaryTranscriptOnly.fa.gz  ... 425M\tbaixados\n",
            "50 de 94 => baixando Acoerulea_322_v3.1.protein_primaryTranscriptOnly.fa.gz  ... 440M\tbaixados\n",
            "51 de 94 => baixando Lusitatissimum_200_v1.0.protein_primaryTranscriptOnly.fa.gz  ... 440M\tbaixados\n",
            "52 de 94 => baixando Fvesca_226_v1.1.protein_primaryTranscriptOnly.fa.gz  ... 440M\tbaixados\n",
            "53 de 94 => baixando Zmays_284_Ensembl-18_2010-01-MaizeSequence.protein_primaryTranscriptOnly.fa.gz  ... 440M\tbaixados\n",
            "54 de 94 => baixando Ghirsutum_458_v1.1.protein_primaryTranscriptOnly.fa.gz  ... 440M\tbaixados\n",
            "55 de 94 => baixando Ppatens_318_v3.3.protein_primaryTranscriptOnly.fa.gz  ... 455M\tbaixados\n",
            "56 de 94 => baixando Msinensis_497_v7.1.protein_primaryTranscriptOnly.fa.gz  ... 485M\tbaixados\n",
            "57 de 94 => baixando SbicolorRio_468_v2.1.protein_primaryTranscriptOnly.fa.gz  ... 485M\tbaixados\n",
            "58 de 94 => baixando Tcacao_233_v1.1.protein_primaryTranscriptOnly.fa.gz  ... 500M\tbaixados\n",
            "59 de 94 => baixando Ahalleri_264_v1.1.protein_primaryTranscriptOnly.fa.gz  ... 513M\tbaixados\n",
            "60 de 94 => baixando Athaliana_167_TAIR10.protein_primaryTranscriptOnly.fa.gz  ... 513M\tbaixados\n",
            "61 de 94 => baixando Tpratense_385_v2.protein_primaryTranscriptOnly.fa.gz  ... 532M\tbaixados\n",
            "62 de 94 => baixando Hannuus_494_r1.2.protein_primaryTranscriptOnly.fa.gz  ... 557M\tbaixados\n",
            "63 de 94 => baixando Aoccidentale_449_v0.9.protein_primaryTranscriptOnly.fa.gz  ... 577M\tbaixados\n",
            "64 de 94 => baixando Bhybridum_463_v1.1.protein_primaryTranscriptOnly.fa.gz  ... 611M\tbaixados\n",
            "65 de 94 => baixando Sfallax_310_v0.5.protein_primaryTranscriptOnly.fa.gz  ... 611M\tbaixados\n",
            "66 de 94 => baixando ZmaysPH207_443_v1.1.protein_primaryTranscriptOnly.fa.gz  ... 611M\tbaixados\n",
            "67 de 94 => baixando Pvulgaris_442_v2.1.protein_primaryTranscriptOnly.fa.gz  ... 626M\tbaixados\n",
            "68 de 94 => baixando Phallii_495_v3.1.protein_primaryTranscriptOnly.fa.gz  ... 626M\tbaixados\n",
            "69 de 94 => baixando Sbicolor_454_v3.1.1.protein_primaryTranscriptOnly.fa.gz  ... 643M\tbaixados\n",
            "70 de 94 => baixando Macuminata_304_v1.protein_primaryTranscriptOnly.fa.gz  ... 643M\tbaixados\n",
            "71 de 94 => baixando Boleraceacapitata_446_v1.0.protein_primaryTranscriptOnly.fa.gz  ... 659M\tbaixados\n",
            "72 de 94 => baixando Vunguiculata_469_v1.1.protein_primaryTranscriptOnly.fa.gz  ... 674M\tbaixados\n",
            "73 de 94 => baixando BrapaFPsc_277_v1.3.protein_primaryTranscriptOnly.fa.gz  ... 694M\tbaixados\n",
            "74 de 94 => baixando Mdomestica_196_v1.0.protein_primaryTranscriptOnly.fa.gz  ... 694M\tbaixados\n",
            "75 de 94 => baixando Crubella_183_v1.0.protein_primaryTranscriptOnly.fa.gz  ... 694M\tbaixados\n",
            "76 de 94 => baixando Cpapaya_113_ASGPBv0.4.protein_primaryTranscriptOnly.fa.gz  ... 694M\tbaixados\n",
            "77 de 94 => baixando Slycopersicum_390_ITAG2.4.protein_primaryTranscriptOnly.fa.gz  ... 710M\tbaixados\n",
            "78 de 94 => baixando Klaxiflora_309_v1.1.protein_primaryTranscriptOnly.fa.gz  ... 737M\tbaixados\n",
            "79 de 94 => baixando Phallii_308_v2.0.protein_primaryTranscriptOnly.fa.gz  ... 737M\tbaixados\n",
            "80 de 94 => baixando Ahypochondriacus_315_v1.0.protein_primaryTranscriptOnly.fa.gz  ... 737M\tbaixados\n",
            "81 de 94 => baixando Sviridis_311_v1.1.protein_primaryTranscriptOnly.fa.gz  ... 754M\tbaixados\n",
            "82 de 94 => baixando Tintermedium_503_v2.1.protein_primaryTranscriptOnly.fa.gz  ... 754M\tbaixados\n",
            "83 de 94 => baixando Vcarteri_317_v2.1.protein_primaryTranscriptOnly.fa.gz  ... 765M\tbaixados\n",
            "84 de 94 => baixando Bstricta_278_v1.2.protein_primaryTranscriptOnly.fa.gz  ... 779M\tbaixados\n",
            "85 de 94 => baixando Graimondii_221_v2.1.protein_primaryTranscriptOnly.fa.gz  ... 779M\tbaixados\n",
            "86 de 94 => baixando Mpolymorpha_320_v3.1.protein_primaryTranscriptOnly.fa.gz  ... 789M\tbaixados\n",
            "87 de 94 => baixando Acomosus_321_v3.protein_primaryTranscriptOnly.fa.gz  ... 802M\tbaixados\n",
            "88 de 94 => baixando Sviridis_500_v2.1.protein_primaryTranscriptOnly.fa.gz  ... 820M\tbaixados\n",
            "89 de 94 => baixando Carietinum_492_v1.0.protein_primaryTranscriptOnly.fa.gz  ... 834M\tbaixados\n",
            "90 de 94 => baixando Spurpurea_289_v1.0.protein_primaryTranscriptOnly.fa.gz  ... 834M\tbaixados\n",
            "91 de 94 => baixando Spolyrhiza_290_v2.protein_primaryTranscriptOnly.fa.gz  ... 843M\tbaixados\n",
            "92 de 94 => baixando Czofingiensis_461_v5.2.3.2.protein_primaryTranscriptOnly.fa.gz  ... 852M\tbaixados\n",
            "93 de 94 => baixando Vvinifera_145_Genoscope.12X.protein_primaryTranscriptOnly.fa.gz  ... 852M\tbaixados\n",
            "94 de 94 => baixando Csinensis_154_v1.1.protein_primaryTranscriptOnly.fa.gz  ... 864M\tbaixados\n"
          ]
        }
      ]
    },
    {
      "cell_type": "code",
      "source": [
        "### compactar para baixar do colab para o pc\n",
        "!zip baixados.zip baixados/*.fa"
      ],
      "metadata": {
        "id": "GlXADc10ICG2",
        "colab": {
          "base_uri": "https://localhost:8080/"
        },
        "outputId": "983680a1-d7f5-4ec1-f6f0-f087cee4c089"
      },
      "execution_count": 8,
      "outputs": [
        {
          "output_type": "stream",
          "name": "stdout",
          "text": [
            "  adding: baixados/Acoerulea_322_v3.1.protein_primaryTranscriptOnly.fa (deflated 50%)\n",
            "  adding: baixados/Acomosus_321_v3.protein_primaryTranscriptOnly.fa (deflated 49%)\n",
            "  adding: baixados/Ahalleri_264_v1.1.protein_primaryTranscriptOnly.fa (deflated 51%)\n",
            "  adding: baixados/Ahypochondriacus_459_v2.1.protein_primaryTranscriptOnly.fa (deflated 49%)\n",
            "  adding: baixados/Alyrata_384_v2.1.protein_primaryTranscriptOnly.fa (deflated 49%)\n",
            "  adding: baixados/Aoccidentale_449_v0.9.protein_primaryTranscriptOnly.fa (deflated 52%)\n",
            "  adding: baixados/Aofficinalis_498_V1.1.protein_primaryTranscriptOnly.fa (deflated 56%)\n",
            "  adding: baixados/Athaliana_447_Araport11.protein_primaryTranscriptOnly.fa (deflated 49%)\n",
            "  adding: baixados/Atrichopoda_291_v1.0.protein_primaryTranscriptOnly.fa (deflated 60%)\n",
            "  adding: baixados/Bbraunii_502_v2.1.protein_primaryTranscriptOnly.fa (deflated 54%)\n",
            "  adding: baixados/Bhybridum_463_v1.1.protein_primaryTranscriptOnly.fa (deflated 52%)\n",
            "  adding: baixados/Boleraceacapitata_446_v1.0.protein_primaryTranscriptOnly.fa (deflated 49%)\n",
            "  adding: baixados/BrapaFPsc_277_v1.3.protein_primaryTranscriptOnly.fa (deflated 50%)\n",
            "  adding: baixados/Bstacei_316_v1.1.protein_primaryTranscriptOnly.fa (deflated 51%)\n",
            "  adding: baixados/Bstricta_278_v1.2.protein_primaryTranscriptOnly.fa (deflated 52%)\n",
            "  adding: baixados/Bsylvaticum_490_v1.1.protein_primaryTranscriptOnly.fa (deflated 50%)\n",
            "  adding: baixados/Carietinum_492_v1.0.protein_primaryTranscriptOnly.fa (deflated 49%)\n",
            "  adding: baixados/Cclementina_182_v1.0.protein_primaryTranscriptOnly.fa (deflated 50%)\n",
            "  adding: baixados/Cgrandiflora_266_v1.1.protein_primaryTranscriptOnly.fa (deflated 51%)\n",
            "  adding: baixados/Cquinoa_392_v1.0.protein_primaryTranscriptOnly.fa (deflated 50%)\n",
            "  adding: baixados/Creinhardtii_281_v5.5.protein_primaryTranscriptOnly.fa (deflated 50%)\n",
            "  adding: baixados/Csativus_122_v1.0.protein_primaryTranscriptOnly.fa (deflated 50%)\n",
            "  adding: baixados/Csinensis_154_v1.1.protein_primaryTranscriptOnly.fa (deflated 51%)\n",
            "  adding: baixados/CsubellipsoideaC_169_227_v2.0.protein_primaryTranscriptOnly.fa (deflated 48%)\n",
            "  adding: baixados/Czofingiensis_461_v5.2.3.2.protein_primaryTranscriptOnly.fa (deflated 49%)\n",
            "  adding: baixados/Dcarota_388_v2.0.protein_primaryTranscriptOnly.fa (deflated 49%)\n",
            "  adding: baixados/Dsalina_325_v1.0.protein_primaryTranscriptOnly.fa (deflated 53%)\n",
            "  adding: baixados/Egrandis_297_v2.0.protein_primaryTranscriptOnly.fa (deflated 50%)\n",
            "  adding: baixados/Esalsugineum_173_v1.0.protein_primaryTranscriptOnly.fa (deflated 50%)\n",
            "  adding: baixados/Gmax_275_Wm82.a2.v1.protein_primaryTranscriptOnly.fa (deflated 52%)\n",
            "  adding: baixados/Hannuus_494_r1.2.protein_primaryTranscriptOnly.fa (deflated 53%)\n",
            "  adding: baixados/Hvulgare_462_r1.protein_primaryTranscriptOnly.fa (deflated 52%)\n",
            "  adding: baixados/Kfedtschenkoi_382_v1.1.protein_primaryTranscriptOnly.fa (deflated 52%)\n",
            "  adding: baixados/Klaxiflora_309_v1.1.protein_primaryTranscriptOnly.fa (deflated 51%)\n",
            "  adding: baixados/Lsativa_467_v5.protein_primaryTranscriptOnly.fa (deflated 53%)\n",
            "  adding: baixados/Mpolymorpha_320_v3.1.protein_primaryTranscriptOnly.fa (deflated 52%)\n",
            "  adding: baixados/MpusillaCCMP1545_228_v3.0.protein_primaryTranscriptOnly.fa (deflated 49%)\n",
            "  adding: baixados/Msinensis_497_v7.1.protein_primaryTranscriptOnly.fa (deflated 51%)\n",
            "  adding: baixados/MspRCC299_229_v3.0.protein_primaryTranscriptOnly.fa (deflated 48%)\n",
            "  adding: baixados/Mtruncatula_285_Mt4.0v1.protein_primaryTranscriptOnly.fa (deflated 52%)\n",
            "  adding: baixados/Olucimarinus_231_v2.0.protein_primaryTranscriptOnly.fa (deflated 48%)\n",
            "  adding: baixados/Osativa_323_v7.0.protein_primaryTranscriptOnly.fa (deflated 51%)\n",
            "  adding: baixados/Ppatens_318_v3.3.protein_primaryTranscriptOnly.fa (deflated 49%)\n",
            "  adding: baixados/Pumbilicalis_456_v1.5.protein_primaryTranscriptOnly.fa (deflated 53%)\n",
            "  adding: baixados/Pvulgaris_442_v2.1.protein_primaryTranscriptOnly.fa (deflated 50%)\n",
            "  adding: baixados/Sbicolor_313_v3.1.protein_primaryTranscriptOnly.fa (deflated 51%)\n",
            "  adding: baixados/Sbicolor_454_v3.1.1.protein_primaryTranscriptOnly.fa (deflated 51%)\n",
            "  adding: baixados/Sitalica_312_v2.2.protein_primaryTranscriptOnly.fa (deflated 50%)\n",
            "  adding: baixados/Slycopersicum_390_ITAG2.4.protein_primaryTranscriptOnly.fa (deflated 52%)\n",
            "  adding: baixados/Spolyrhiza_290_v2.protein_primaryTranscriptOnly.fa (deflated 51%)\n",
            "  adding: baixados/Sviridis_311_v1.1.protein_primaryTranscriptOnly.fa (deflated 50%)\n",
            "  adding: baixados/Sviridis_500_v2.1.protein_primaryTranscriptOnly.fa (deflated 51%)\n",
            "  adding: baixados/Tcacao_233_v1.1.protein_primaryTranscriptOnly.fa (deflated 50%)\n",
            "  adding: baixados/Tpratense_385_v2.protein_primaryTranscriptOnly.fa (deflated 55%)\n",
            "  adding: baixados/Vcarteri_317_v2.1.protein_primaryTranscriptOnly.fa (deflated 50%)\n",
            "  adding: baixados/Vunguiculata_469_v1.1.protein_primaryTranscriptOnly.fa (deflated 50%)\n"
          ]
        }
      ]
    },
    {
      "cell_type": "code",
      "source": [
        "!ls baixados/*.fa | wc -l"
      ],
      "metadata": {
        "colab": {
          "base_uri": "https://localhost:8080/"
        },
        "id": "E89nvqK9PWJE",
        "outputId": "9b362604-64d4-42c8-9fdd-6323994493ce"
      },
      "execution_count": 9,
      "outputs": [
        {
          "output_type": "stream",
          "name": "stdout",
          "text": [
            "56\n"
          ]
        }
      ]
    },
    {
      "cell_type": "code",
      "source": [
        "## arquivos obtidos 56\n",
        "## tempo total ˜5 minutos\n",
        "## tamanho arquio 422MB"
      ],
      "metadata": {
        "id": "96sdYs7LJ4HU"
      },
      "execution_count": null,
      "outputs": []
    }
  ]
}