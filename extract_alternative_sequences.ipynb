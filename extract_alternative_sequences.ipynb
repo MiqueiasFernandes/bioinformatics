{
 "cells": [
  {
   "cell_type": "code",
   "execution_count": 1,
   "id": "fcc6572c",
   "metadata": {},
   "outputs": [],
   "source": [
    "## Author Miquéias Fernandes\n",
    "## Extract alternative sequences from tabular file\n",
    "## 05/21\n",
    "\n",
    "import os\n",
    "import pandas as pd\n",
    "from Bio import SeqIO\n",
    "from Bio.Seq import Seq\n",
    "from Bio.SeqRecord import SeqRecord"
   ]
  },
  {
   "cell_type": "code",
   "execution_count": 2,
   "id": "20c3a010",
   "metadata": {},
   "outputs": [],
   "source": [
    "REMOVE_chr = True"
   ]
  },
  {
   "cell_type": "code",
   "execution_count": 3,
   "id": "70d7555e",
   "metadata": {},
   "outputs": [],
   "source": [
    "genoma = '../Ca_scaffolds/Ca_scaffolds.fasta'\n",
    "events = {\n",
    "    'extract/SE.MATS.JC.txt': [1003],\n",
    "    'extract/RI.MATS.JC.txt': [667]\n",
    "}"
   ]
  },
  {
   "cell_type": "code",
   "execution_count": 4,
   "id": "76d89440",
   "metadata": {},
   "outputs": [],
   "source": [
    "def importEnventsFromFile(file, events, remove_chr=True):\n",
    "    res = {}\n",
    "    file_name = os.path.basename(file)\n",
    "    is_a3ss = file_name.startswith(\"A3SS.\")\n",
    "    is_a5ss = file_name.startswith(\"A5SS.\")\n",
    "    is_ri = file_name.startswith(\"RI.\")\n",
    "    is_se = file_name.startswith(\"SE.\")\n",
    "    is_mxe = file_name.startswith(\"MXE.\")\n",
    "\n",
    "    if not any([is_a3ss, is_a5ss, is_ri, is_se, is_mxe]):\n",
    "        print('File desconhecido:', file)\n",
    "        return res\n",
    "\n",
    "    for _, evt in pd.read_csv(file, delimiter='\\t').iterrows():\n",
    "\n",
    "        GeneID = evt['GeneID'] \n",
    "        ID = ('A3SS' if is_a3ss else \n",
    "            'A5SS' if is_a5ss else \n",
    "            'RI' if is_ri else \n",
    "            'SE' if is_se else \n",
    "            'MXE') + str(evt['ID']) + '_' + GeneID\n",
    "        seq = evt['chr'][3:] if remove_chr else evt['chr']\n",
    "        strand = evt['strand']\n",
    "\n",
    "        if not evt['ID'] in events:\n",
    "            continue\n",
    "\n",
    "        res[evt['ID']] = (ID, GeneID, seq, evt)\n",
    "    return res"
   ]
  },
  {
   "cell_type": "code",
   "execution_count": 5,
   "id": "b7aa13ed",
   "metadata": {},
   "outputs": [],
   "source": [
    "parsed_events = {k: importEnventsFromFile(k, v, remove_chr=REMOVE_chr) for k, v in events.items()}"
   ]
  },
  {
   "cell_type": "code",
   "execution_count": 6,
   "id": "c11fffac",
   "metadata": {},
   "outputs": [],
   "source": [
    "needed_contigs = set(','.join([','.join((x[2] for x in x.values())) for x in parsed_events.values()]).split(','))"
   ]
  },
  {
   "cell_type": "code",
   "execution_count": 7,
   "id": "c4302af8",
   "metadata": {},
   "outputs": [],
   "source": [
    "contigs = SeqIO.to_dict((c for c in SeqIO.parse(genoma, 'fasta') if c.id in needed_contigs))"
   ]
  },
  {
   "cell_type": "code",
   "execution_count": 8,
   "id": "a0089333",
   "metadata": {},
   "outputs": [],
   "source": [
    "def getAlternativeSequence(events_parsed, fasta, writeOn=None):\n",
    "    res = []\n",
    "    for file, events in events_parsed.items():\n",
    "        for ID, GeneID, seq, evt in events.values():\n",
    "\n",
    "            is_a3ss = ID.startswith(\"A3SS\")\n",
    "            is_a5ss = ID.startswith(\"A5SS\")\n",
    "            is_ri = ID.startswith(\"RI\")\n",
    "            is_se = ID.startswith(\"SE\")\n",
    "            is_mxe = ID.startswith(\"MXE\")\n",
    "\n",
    "            if not any([is_a3ss, is_a5ss, is_ri, is_se, is_mxe]):\n",
    "                print('File desconhecido:', file)\n",
    "                continue\n",
    "\n",
    "            strand = evt['strand']\n",
    "            \n",
    "            def toSeq(seqfna, name, strand, a=None, b=None):\n",
    "                sr = SeqRecord(Seq(seqfna))\n",
    "                sr = sr if strand == '+' else sr.reverse_complement()\n",
    "                sr.id=name\n",
    "                sr.description=f'{seq} {strand}{a}:{b}' if a and b else ''\n",
    "                return sr\n",
    "\n",
    "            if is_a3ss or is_a5ss:\n",
    "                longExonStart_0base = evt['longExonStart_0base']\n",
    "                longExonEnd = evt['longExonEnd']\n",
    "                shortES = evt['shortES']\n",
    "                shortEE = evt['shortEE']\n",
    "                slong = str(fasta[seq].seq[longExonStart_0base:longExonEnd])\n",
    "                sshort = str(fasta[seq].seq[shortES:shortEE])\n",
    "                res.append( toSeq(slong, ID+'_LONG', strand, longExonStart_0base+1, longExonEnd) )\n",
    "                res.append( toSeq(sshort, ID+'_SHORT', strand, shortES+1, shortEE) )\n",
    "                res.append( toSeq(slong.replace(sshort, ''), ID+'_ALTERNATIVE', strand) )\n",
    "\n",
    "            if is_ri:\n",
    "                riExonStart_0base = evt['riExonStart_0base']\n",
    "                riExonEnd = evt['riExonEnd']\n",
    "                sri = str(fasta[seq].seq[riExonStart_0base:riExonEnd])\n",
    "                res.append( toSeq(sri, ID+'_INTRON_RETIDO', strand, riExonStart_0base+1, riExonEnd) )\n",
    "\n",
    "            if is_se:\n",
    "                exonStart_0base = evt['exonStart_0base']\n",
    "                exonEnd = evt['exonEnd']\n",
    "                sse = str(fasta[seq].seq[exonStart_0base:exonEnd])\n",
    "                res.append( toSeq(sse, ID+'_EXON_ALTERNATIVO', strand, exonStart_0base+1, exonEnd) )\n",
    "\n",
    "            if is_mxe:\n",
    "                _1stExonStart_0base = evt['1stExonStart_0base']\n",
    "                _1stExonEnd = evt['1stExonEnd']\n",
    "                _2ndExonStart_0base = evt['2ndExonStart_0base']\n",
    "                _2ndExonEnd = evt['2ndExonEnd']\n",
    "                sse1 = str(fasta[seq].seq[_1stExonStart_0base:_1stExonEnd])\n",
    "                sse2 = str(fasta[seq].seq[_2ndExonStart_0base:_2ndExonEnd])\n",
    "                res.append( toSeq(sse1, ID+'_EXON_ALTERNATIVO_1', strand, _1stExonStart_0base+1, _1stExonEnd) )\n",
    "                res.append( toSeq(sse2, ID+'_EXON_ALTERNATIVO_2', strand, _2ndExonStart_0base+1, _2ndExonEnd) )\n",
    "                \n",
    "    if writeOn:\n",
    "        SeqIO.write(res, writeOn, 'fasta')\n",
    "    return res"
   ]
  },
  {
   "cell_type": "code",
   "execution_count": 9,
   "id": "beee1848",
   "metadata": {},
   "outputs": [],
   "source": [
    "_ = getAlternativeSequence(parsed_events, contigs, 'alternative_sequences.fna')"
   ]
  },
  {
   "cell_type": "code",
   "execution_count": null,
   "id": "47deeccd",
   "metadata": {},
   "outputs": [],
   "source": []
  }
 ],
 "metadata": {
  "kernelspec": {
   "display_name": "Python 3",
   "language": "python",
   "name": "python3"
  },
  "language_info": {
   "codemirror_mode": {
    "name": "ipython",
    "version": 3
   },
   "file_extension": ".py",
   "mimetype": "text/x-python",
   "name": "python",
   "nbconvert_exporter": "python",
   "pygments_lexer": "ipython3",
   "version": "3.7.3"
  }
 },
 "nbformat": 4,
 "nbformat_minor": 5
}
