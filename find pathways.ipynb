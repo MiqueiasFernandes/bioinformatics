{
 "cells": [
  {
   "cell_type": "code",
   "execution_count": 5,
   "metadata": {},
   "outputs": [],
   "source": [
    "import requests\n",
    "import re"
   ]
  },
  {
   "cell_type": "code",
   "execution_count": 6,
   "metadata": {},
   "outputs": [],
   "source": [
    "!rm -rf pathways/ && mkdir pathways"
   ]
  },
  {
   "cell_type": "code",
   "execution_count": 7,
   "metadata": {},
   "outputs": [],
   "source": [
    "paths = list(set([x for x in open('pathways.txt').read().replace('\\n', ',').split(\",\") if x.startswith('map')]))"
   ]
  },
  {
   "cell_type": "code",
   "execution_count": 8,
   "metadata": {},
   "outputs": [
    {
     "data": {
      "text/plain": [
       "104"
      ]
     },
     "execution_count": 8,
     "metadata": {},
     "output_type": "execute_result"
    }
   ],
   "source": [
    "len(paths)"
   ]
  },
  {
   "cell_type": "code",
   "execution_count": 9,
   "metadata": {},
   "outputs": [],
   "source": [
    "TAG_RE = re.compile(r'<[^>]+>')\n",
    "\n",
    "def remove_tags(text):\n",
    "    return str(TAG_RE.sub('', str(''.join(text)).replace('\\\\n', '\\n')))\n",
    "\n",
    "def get(pthw):\n",
    "    r = requests.get(\"https://www.genome.jp/dbget-bin/www_bget?pathway:\" + pthw, timeout=30)\n",
    "    res = str(r.content).split('<tr>')[6:9]\n",
    "    return 'MAP: ' + pthw +'\\n\\n' + remove_tags(res).replace('Name\\n', 'Name: ')\n"
   ]
  },
  {
   "cell_type": "code",
   "execution_count": 11,
   "metadata": {},
   "outputs": [
    {
     "name": "stdout",
     "output_type": "stream",
     "text": [
      "..........\n",
      "..........\n",
      "..........\n",
      "...X......\n",
      "....X.....\n",
      "..........\n",
      "..........\n",
      "..........\n",
      "..........\n",
      ".X........\n",
      "...."
     ]
    }
   ],
   "source": [
    "cont = 0\n",
    "for p in paths:\n",
    "    e = '.'\n",
    "    try:\n",
    "        res = get(p)\n",
    "        n = p + res.split('Name:')[1].split('\\n')[0]\n",
    "        open('pathways/' + n + '.txt', 'w').writelines(res)\n",
    "    except:\n",
    "        e = 'X'\n",
    "    cont += 1\n",
    "    print(e, end='' if cont % 10 else '\\n')"
   ]
  },
  {
   "cell_type": "code",
   "execution_count": null,
   "metadata": {},
   "outputs": [],
   "source": [
    "##https://realpython.com/python-requests/"
   ]
  }
 ],
 "metadata": {
  "kernelspec": {
   "display_name": "Python 3",
   "language": "python",
   "name": "python3"
  },
  "language_info": {
   "codemirror_mode": {
    "name": "ipython",
    "version": 3
   },
   "file_extension": ".py",
   "mimetype": "text/x-python",
   "name": "python",
   "nbconvert_exporter": "python",
   "pygments_lexer": "ipython3",
   "version": "3.7.3"
  }
 },
 "nbformat": 4,
 "nbformat_minor": 4
}
